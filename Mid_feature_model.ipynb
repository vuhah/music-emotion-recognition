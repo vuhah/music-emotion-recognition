{
 "cells": [
  {
   "cell_type": "code",
   "execution_count": 1,
   "metadata": {
    "id": "2TKohTytykN4"
   },
   "outputs": [],
   "source": [
    "import os\n",
    "import librosa\n",
    "import numpy as np\n",
    "import tensorflow as tf\n",
    "from tensorflow import keras\n",
    "from tensorflow.keras import layers\n",
    "import pandas as pd\n",
    "from sklearn.model_selection import train_test_split"
   ]
  },
  {
   "cell_type": "code",
   "execution_count": 3,
   "metadata": {
    "id": "6ygMfC0pyqQO"
   },
   "outputs": [],
   "source": [
    "def load_data_label(feature_path, label_file_path, num_instance = 2000):\n",
    "    y = pd.read_csv(label_file_path, header=0).drop('song_id',axis=1)\n",
    "    # Load the data from each file and concatenate into a single feature matrix\n",
    "    feature_matrix = None\n",
    "    label_matrix = y[:num_instance]\n",
    "\n",
    "    for i in range(1, num_instance + 1):\n",
    "        file_path = os.path.join(feature_path, str(i) + \".mp3.npy\")\n",
    "        # print(\"Processed file \" + file_path)\n",
    "        data = np.load(file_path)\n",
    "        data = [np.expand_dims(data, axis=-1)]\n",
    "        if feature_matrix is None:\n",
    "            feature_matrix = data\n",
    "        else:\n",
    "            feature_matrix = np.concatenate((feature_matrix, data), axis=0)\n",
    "    return feature_matrix, label_matrix\n"
   ]
  },
  {
   "cell_type": "code",
   "execution_count": 4,
   "metadata": {
    "id": "ZE8SD7B_yqmL"
   },
   "outputs": [],
   "source": [
    "def model_middle_feature_construction():\n",
    "    model = keras.Sequential([\n",
    "    # 1st Layer\n",
    "    layers.Conv2D(64, kernel_size=(5, 5), strides = 2 ,activation='relu', padding=\"valid\",input_shape=feature_matrix.shape[1:]),\n",
    "    layers.BatchNormalization(),\n",
    "    # 2nd Layer\n",
    "    layers.Conv2D(64, kernel_size=(3, 3), strides = 1 ,activation='relu', padding=\"same\"),\n",
    "    layers.BatchNormalization(),\n",
    "    # 3rd Layer\n",
    "    layers.MaxPooling2D(pool_size=(2, 2)),\n",
    "    layers.Dropout(0.3),\n",
    "    # 4th Layer\n",
    "    layers.Conv2D(128, kernel_size=(3, 3), strides = 1, activation='relu', padding=\"same\"),\n",
    "    layers.BatchNormalization(),\n",
    "    # 5th Layer\n",
    "    layers.Conv2D(128, kernel_size=(3, 3), strides = 1, activation='relu', padding=\"same\"),\n",
    "    layers.BatchNormalization(),\n",
    "    # 6th Layer\n",
    "    layers.MaxPooling2D(pool_size=(2, 2)),\n",
    "    layers.Dropout(0.3),\n",
    "    # 7th\n",
    "    layers.Conv2D(256, kernel_size=(3, 3), strides = 1, activation='relu', padding=\"same\"),\n",
    "    layers.BatchNormalization(),\n",
    "    # # 8th\n",
    "    layers.Conv2D(256, kernel_size=(3, 3), strides = 1, activation='relu', padding=\"same\"),\n",
    "    layers.BatchNormalization(),\n",
    "    # # 9th\n",
    "    layers.Conv2D(384, kernel_size=(3, 3), strides = 1, activation='relu', padding=\"same\"),\n",
    "    layers.BatchNormalization(),\n",
    "    # # 10th \n",
    "    layers.Conv2D(512, kernel_size=(3, 3), strides = 1, activation='relu', padding=\"same\"),\n",
    "    layers.BatchNormalization(),\n",
    "    # # 11th\n",
    "    layers.Conv2D(256, kernel_size=(3, 3), strides = 1, activation='relu', padding=\"same\"),\n",
    "    layers.BatchNormalization(),\n",
    "    # # 12th\n",
    "    layers.AveragePooling2D(),\n",
    "    layers.Flatten(),\n",
    "    layers.Dense(256),\n",
    "    layers.Dense(7),\n",
    "])\n",
    "    return model"
   ]
  },
  {
   "cell_type": "code",
   "execution_count": 5,
   "metadata": {
    "id": "MAKsW5EcyuXX"
   },
   "outputs": [],
   "source": [
    "## File parameter\n",
    "FOLDER_PATH = os.getcwd()\n",
    "SPECTROGRAM_313x149_SAVE_DIR = FOLDER_PATH+ \"/spectograms_313x149_Mel_func\"\n",
    "ANNOTATION_FILE_PATH = FOLDER_PATH + \"/annotations.csv\"\n",
    "\n",
    "## DATA PARAMETER\n",
    "NUM_INSTANCE = 200\n",
    "TEST_SIZE = 0.2\n",
    "\n",
    "## Model Parameter\n",
    "BATCH_SIZE = 8\n",
    "EPOCHS = 40\n",
    "MODEL_SAVE = True"
   ]
  },
  {
   "cell_type": "code",
   "execution_count": 6,
   "metadata": {
    "id": "6KfGtr1Syx4p"
   },
   "outputs": [],
   "source": [
    " # load feature, label\n",
    "feature_matrix, label_matrix = load_data_label(SPECTROGRAM_313x149_SAVE_DIR, ANNOTATION_FILE_PATH, NUM_INSTANCE)\n",
    "\n",
    "# split train, test\n",
    "train_features, test_features, train_labels, test_labels = train_test_split(feature_matrix, label_matrix, test_size=TEST_SIZE, random_state=42)"
   ]
  },
  {
   "cell_type": "code",
   "execution_count": 7,
   "metadata": {
    "id": "CV7HEldnzEYz"
   },
   "outputs": [],
   "source": [
    "model = model_middle_feature_construction()\n",
    "\n",
    "opt = keras.optimizers.Adam(learning_rate=0.0005)\n",
    "model.compile(optimizer=opt, loss='MSE', metrics=['mse', 'mae', 'mape', 'accuracy'])"
   ]
  },
  {
   "cell_type": "code",
   "execution_count": 8,
   "metadata": {
    "colab": {
     "base_uri": "https://localhost:8080/"
    },
    "id": "vclqQUl9zHqv",
    "outputId": "97de8295-49af-4454-fbad-5abd5c517c09"
   },
   "outputs": [
    {
     "name": "stdout",
     "output_type": "stream",
     "text": [
      "Epoch 1/40\n",
      "20/20 [==============================] - 47s 2s/step - loss: 192.5058 - mse: 192.5058 - mae: 10.1476 - mape: 198.1258 - accuracy: 0.1437\n",
      "Epoch 2/40\n",
      "20/20 [==============================] - 43s 2s/step - loss: 80.7084 - mse: 80.7084 - mae: 6.9441 - mape: 141.2895 - accuracy: 0.1813\n",
      "Epoch 3/40\n",
      "20/20 [==============================] - 44s 2s/step - loss: 47.2304 - mse: 47.2304 - mae: 5.3036 - mape: 110.3720 - accuracy: 0.2188\n",
      "Epoch 4/40\n",
      "20/20 [==============================] - 42s 2s/step - loss: 45.5931 - mse: 45.5931 - mae: 5.1987 - mape: 104.2619 - accuracy: 0.2062\n",
      "Epoch 5/40\n",
      "20/20 [==============================] - 42s 2s/step - loss: 28.8732 - mse: 28.8732 - mae: 4.1983 - mape: 86.2086 - accuracy: 0.1875\n",
      "Epoch 6/40\n",
      "20/20 [==============================] - 48s 2s/step - loss: 16.6161 - mse: 16.6161 - mae: 3.2588 - mape: 65.6443 - accuracy: 0.2188\n",
      "Epoch 7/40\n",
      "20/20 [==============================] - 42s 2s/step - loss: 12.9325 - mse: 12.9325 - mae: 2.8154 - mape: 57.2067 - accuracy: 0.2375\n",
      "Epoch 8/40\n",
      "20/20 [==============================] - 41s 2s/step - loss: 11.2145 - mse: 11.2145 - mae: 2.6354 - mape: 52.1754 - accuracy: 0.2812\n",
      "Epoch 9/40\n",
      "20/20 [==============================] - 42s 2s/step - loss: 10.5924 - mse: 10.5924 - mae: 2.5716 - mape: 51.5541 - accuracy: 0.2875\n",
      "Epoch 10/40\n",
      "20/20 [==============================] - 41s 2s/step - loss: 11.1142 - mse: 11.1142 - mae: 2.6470 - mape: 52.3746 - accuracy: 0.2625\n",
      "Epoch 11/40\n",
      "20/20 [==============================] - 43s 2s/step - loss: 9.6241 - mse: 9.6241 - mae: 2.4251 - mape: 48.8146 - accuracy: 0.2500\n",
      "Epoch 12/40\n",
      "20/20 [==============================] - 53s 3s/step - loss: 9.4076 - mse: 9.4076 - mae: 2.4553 - mape: 48.9741 - accuracy: 0.2937\n",
      "Epoch 13/40\n",
      "20/20 [==============================] - 51s 3s/step - loss: 10.3815 - mse: 10.3815 - mae: 2.5230 - mape: 49.4396 - accuracy: 0.3187\n",
      "Epoch 14/40\n",
      "20/20 [==============================] - 63s 3s/step - loss: 9.8424 - mse: 9.8424 - mae: 2.5198 - mape: 50.1387 - accuracy: 0.2562\n",
      "Epoch 15/40\n",
      "20/20 [==============================] - 51s 3s/step - loss: 9.9788 - mse: 9.9788 - mae: 2.5339 - mape: 50.3627 - accuracy: 0.3000\n",
      "Epoch 16/40\n",
      "20/20 [==============================] - 46s 2s/step - loss: 10.5582 - mse: 10.5582 - mae: 2.6210 - mape: 52.8891 - accuracy: 0.2438\n",
      "Epoch 17/40\n",
      "20/20 [==============================] - 46s 2s/step - loss: 11.4600 - mse: 11.4600 - mae: 2.7156 - mape: 53.1979 - accuracy: 0.2438\n",
      "Epoch 18/40\n",
      "20/20 [==============================] - 45s 2s/step - loss: 13.4181 - mse: 13.4181 - mae: 2.9418 - mape: 58.1075 - accuracy: 0.2937\n",
      "Epoch 19/40\n",
      "20/20 [==============================] - 47s 2s/step - loss: 12.7461 - mse: 12.7461 - mae: 2.8478 - mape: 55.9342 - accuracy: 0.2562\n",
      "Epoch 20/40\n",
      "20/20 [==============================] - 45s 2s/step - loss: 16.5858 - mse: 16.5858 - mae: 3.2208 - mape: 65.3110 - accuracy: 0.2812\n",
      "Epoch 21/40\n",
      "20/20 [==============================] - 42s 2s/step - loss: 14.7026 - mse: 14.7026 - mae: 3.0193 - mape: 59.2207 - accuracy: 0.3313\n",
      "Epoch 22/40\n",
      "20/20 [==============================] - 42s 2s/step - loss: 14.2305 - mse: 14.2305 - mae: 3.0065 - mape: 59.2103 - accuracy: 0.3438\n",
      "Epoch 23/40\n",
      "20/20 [==============================] - 43s 2s/step - loss: 18.8226 - mse: 18.8226 - mae: 3.4424 - mape: 66.5883 - accuracy: 0.2188\n",
      "Epoch 24/40\n",
      "20/20 [==============================] - 42s 2s/step - loss: 17.7028 - mse: 17.7028 - mae: 3.2855 - mape: 65.2668 - accuracy: 0.2812\n",
      "Epoch 25/40\n",
      "20/20 [==============================] - 44s 2s/step - loss: 14.6036 - mse: 14.6036 - mae: 3.0130 - mape: 57.5854 - accuracy: 0.2375\n",
      "Epoch 26/40\n",
      "20/20 [==============================] - 44s 2s/step - loss: 14.1714 - mse: 14.1714 - mae: 2.9538 - mape: 57.0414 - accuracy: 0.2562\n",
      "Epoch 27/40\n",
      "20/20 [==============================] - 47s 2s/step - loss: 16.5387 - mse: 16.5387 - mae: 3.1775 - mape: 61.4706 - accuracy: 0.2750\n",
      "Epoch 28/40\n",
      "20/20 [==============================] - 43s 2s/step - loss: 14.9687 - mse: 14.9687 - mae: 3.0253 - mape: 59.3104 - accuracy: 0.2500\n",
      "Epoch 29/40\n",
      "20/20 [==============================] - 43s 2s/step - loss: 14.6372 - mse: 14.6372 - mae: 2.9760 - mape: 57.4132 - accuracy: 0.2500\n",
      "Epoch 30/40\n",
      "20/20 [==============================] - 42s 2s/step - loss: 12.0487 - mse: 12.0487 - mae: 2.7296 - mape: 54.4586 - accuracy: 0.2313\n",
      "Epoch 31/40\n",
      "20/20 [==============================] - 42s 2s/step - loss: 11.8760 - mse: 11.8760 - mae: 2.7078 - mape: 53.1457 - accuracy: 0.3125\n",
      "Epoch 32/40\n",
      "20/20 [==============================] - 43s 2s/step - loss: 11.4538 - mse: 11.4538 - mae: 2.6068 - mape: 49.8964 - accuracy: 0.2812\n",
      "Epoch 33/40\n",
      "20/20 [==============================] - 43s 2s/step - loss: 11.1500 - mse: 11.1500 - mae: 2.5930 - mape: 51.1611 - accuracy: 0.2688\n",
      "Epoch 34/40\n",
      "20/20 [==============================] - 43s 2s/step - loss: 11.5540 - mse: 11.5540 - mae: 2.6701 - mape: 52.2260 - accuracy: 0.2500\n",
      "Epoch 35/40\n",
      "20/20 [==============================] - 42s 2s/step - loss: 8.3781 - mse: 8.3781 - mae: 2.2687 - mape: 44.9914 - accuracy: 0.2812\n",
      "Epoch 36/40\n",
      "20/20 [==============================] - 42s 2s/step - loss: 8.8110 - mse: 8.8110 - mae: 2.3242 - mape: 45.4603 - accuracy: 0.3063\n",
      "Epoch 37/40\n",
      "20/20 [==============================] - 42s 2s/step - loss: 8.1123 - mse: 8.1123 - mae: 2.2112 - mape: 43.2711 - accuracy: 0.3250\n",
      "Epoch 38/40\n",
      "20/20 [==============================] - 42s 2s/step - loss: 6.5221 - mse: 6.5221 - mae: 2.0227 - mape: 39.3739 - accuracy: 0.3187\n",
      "Epoch 39/40\n",
      "20/20 [==============================] - 42s 2s/step - loss: 5.7723 - mse: 5.7723 - mae: 1.8781 - mape: 36.4082 - accuracy: 0.3313\n",
      "Epoch 40/40\n",
      "20/20 [==============================] - 47s 2s/step - loss: 5.8563 - mse: 5.8563 - mae: 1.8875 - mape: 36.9276 - accuracy: 0.2875\n"
     ]
    }
   ],
   "source": [
    "history = model.fit(train_features, train_labels, batch_size=BATCH_SIZE, epochs=EPOCHS)"
   ]
  },
  {
   "cell_type": "code",
   "execution_count": 9,
   "metadata": {
    "id": "fG5IuUXVzJH5"
   },
   "outputs": [],
   "source": [
    "dataset = tf.data.Dataset.from_tensor_slices((test_features, test_labels)).batch(32)"
   ]
  },
  {
   "cell_type": "code",
   "execution_count": 11,
   "metadata": {
    "id": "o8vH1AMEzKQz"
   },
   "outputs": [
    {
     "name": "stdout",
     "output_type": "stream",
     "text": [
      "2/2 [==============================] - 3s 483ms/step - loss: 17.1878 - mse: 17.1878 - mae: 3.1619 - mape: 61.2895 - accuracy: 0.0500\n"
     ]
    }
   ],
   "source": [
    "evauation = model.evaluate(dataset)"
   ]
  },
  {
   "cell_type": "code",
   "execution_count": 12,
   "metadata": {
    "id": "S1ggXQxezL8R"
   },
   "outputs": [
    {
     "name": "stderr",
     "output_type": "stream",
     "text": [
      "WARNING:absl:Found untraced functions such as _jit_compiled_convolution_op, _jit_compiled_convolution_op, _jit_compiled_convolution_op, _jit_compiled_convolution_op, _jit_compiled_convolution_op while saving (showing 5 of 10). These functions will not be directly callable after loading.\n"
     ]
    },
    {
     "name": "stdout",
     "output_type": "stream",
     "text": [
      "INFO:tensorflow:Assets written to: C:\\Vu\\Thesis\\code\\updated16.4/model/mel-model\\assets\n"
     ]
    },
    {
     "name": "stderr",
     "output_type": "stream",
     "text": [
      "INFO:tensorflow:Assets written to: C:\\Vu\\Thesis\\code\\updated16.4/model/mel-model\\assets\n"
     ]
    }
   ],
   "source": [
    "if MODEL_SAVE == True:\n",
    "        model.save(FOLDER_PATH+\"/model/mel-model\")"
   ]
  }
 ],
 "metadata": {
  "colab": {
   "provenance": []
  },
  "kernelspec": {
   "display_name": "Python 3 (ipykernel)",
   "language": "python",
   "name": "python3"
  },
  "language_info": {
   "codemirror_mode": {
    "name": "ipython",
    "version": 3
   },
   "file_extension": ".py",
   "mimetype": "text/x-python",
   "name": "python",
   "nbconvert_exporter": "python",
   "pygments_lexer": "ipython3",
   "version": "3.10.0"
  }
 },
 "nbformat": 4,
 "nbformat_minor": 1
}
